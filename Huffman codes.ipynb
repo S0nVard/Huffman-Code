{
 "cells": [
  {
   "cell_type": "markdown",
   "id": "3ab2afa7",
   "metadata": {},
   "source": [
    "# Huffman Codes"
   ]
  },
  {
   "cell_type": "markdown",
   "id": "cb275b60",
   "metadata": {},
   "source": [
    "We will apply Huffman's algorithm to the Fibonacci sequence. In class we will build on this exercise to work on file compression via Huffman encoding, so it is critical that you are able to complete this PCW prior to class.\n"
   ]
  },
  {
   "cell_type": "markdown",
   "id": "2a9d422c",
   "metadata": {},
   "source": [
    "Consider the following set of frequencies, mapped from the Fibonacci numbers: \n",
    "\n"
   ]
  },
  {
   "cell_type": "markdown",
   "id": "d5f5b104",
   "metadata": {},
   "source": [
    "'f1': 1\n",
    "\n",
    "'f2': 1\n",
    "\n",
    "'f3': 2\n",
    "\n",
    "'f4': 3\n",
    "\n",
    "'f5': 5\n",
    "\n",
    "'f6': 8\n",
    "\n",
    "'f7': 13\n",
    "\n",
    "..."
   ]
  },
  {
   "cell_type": "markdown",
   "id": "29713e5c",
   "metadata": {},
   "source": [
    "Below is a Node class that has already been written for you. Each node will store information related to a given frequency. Only leaves within the binary tree constructed via an optimal Huffman encoding hold the numbers that we aim to encode. Run the code below:\n",
    "\n"
   ]
  },
  {
   "cell_type": "code",
   "execution_count": 23,
   "id": "21896399",
   "metadata": {},
   "outputs": [],
   "source": [
    "import heapq\n",
    "class Node(object):\n",
    "    \"\"\"A node in a binary tree that represents a prefix code.\"\"\"\n",
    "    def __init__(self, freq, symb, parent = None, lchild = None, rchild = None):\n",
    "        \"\"\"\n",
    "        Parameters:\n",
    "        freq\n",
    "            float, frequency of the character\n",
    "        symb\n",
    "            string of the character \n",
    "        parent\n",
    "            a node, parent of the current node in the tree\n",
    "        lchild, rchild\n",
    "            left child node and right child node of the current node in the tree\n",
    "        \"\"\"\n",
    "        self.freq = freq\n",
    "        self.symb = symb\n",
    "        self.parent = parent\n",
    "        self.lchild = lchild\n",
    "        self.rchild = rchild\n",
    "    \n",
    "    def __lt__(self, other):\n",
    "        \"\"\"\n",
    "        Overloading: nodeA < nodeB returns True if nodeA.freq < nodeB.freq. This enables\n",
    "        us to use the module heapq directly on nodes. In other words, with this function,        we can now push/insert a node into a heap as well as extract/pop the \n",
    "        minimum node from a heap. We studied the module heapq before. \n",
    "        You can brushup your memory by visiting this link: \n",
    "        https://docs.python.org/3.0/library/heapq.html\n",
    "        \n",
    "        \"\"\"\n",
    "        return self.freq < other.freq\n",
    "        "
   ]
  },
  {
   "cell_type": "markdown",
   "id": "a51f5bbe",
   "metadata": {},
   "source": [
    "## Question 1 \n",
    "To accomplish the Huffman encoding, you will need to complete the two functions below, using the information provided by the docstrings. While read_encoding only contains a few pieces of code for you to fill in, the function encode is a bit more elaborated. Specifically, there are at least 3 blocks of code you will need to code, using the hints included in comments. You will have a chance to test your algorithm in the next question. \n",
    "\n"
   ]
  },
  {
   "cell_type": "code",
   "execution_count": 24,
   "id": "e0d54980",
   "metadata": {},
   "outputs": [],
   "source": [
    "def read_encoding(node):\n",
    "    \"\"\"\n",
    "    Given a node in the tree, determines the corresponding codeword for character\n",
    "    node.symb, using the rule in Cormen et al.: the binary codeword for a character \n",
    "    is the simple path from the root to that character, where 0 means “go to the \n",
    "    left child” and 1 means “go to the right child.\n",
    "    Parameter\n",
    "    ---------\n",
    "    node: a node within a binary tree\n",
    "    Returns\n",
    "    ---------\n",
    "    codeword: the encoded string following the Huffman encoding algorithm.    \n",
    "    \"\"\"\n",
    "    codeword = ''\n",
    "    #iterating through the nodes with parents\n",
    "    while node.parent:\n",
    "        if node == node.parent.lchild:\n",
    "            codeword == '0' + codeword\n",
    "        else:\n",
    "            codeword == '1' + codeword\n",
    "        node = node.parent\n",
    "    return codeword\n",
    "\n",
    "def encode(symb2freq_dict):\n",
    "    \"\"\"\n",
    "    Huffman encode the given dict mapping symbols. \n",
    "    This code is inspired in the algorithm implemented by \n",
    "    the function HUFFMAN(C) in section 16.3 of Cormen et al.\n",
    "    Parameter\n",
    "    ---------\n",
    "    symb2freq: a dictionary that maps a symbol/character to\n",
    "    the frequency that each occurs. E.g.,\n",
    "    {'f1': 1,'f2': 1,'f3': 2} for the first 3 Fibonacci numbers. \n",
    "    Returns\n",
    "    ---------\n",
    "    encoded_dictionary: a dictionary that maps a symbol/character to \n",
    "    the codeword for that symbol. For the input specified above,\n",
    "    {'b': '10', 'a': '11', 'c': '0'}.\n",
    "    \"\"\"\n",
    "    n = len(symb2freq_dict)\n",
    "    # define an object that will become a priority queue\n",
    "    Q = []\n",
    "    ### block of code 1 creates the priority queue to hold the symbols and frequencies\n",
    "    for x in symb2freq_dict.keys():\n",
    "        current_node = Node(symb2freq_dict[x],x)\n",
    "        heapq.heappush(Q, current_node)\n",
    "        \n",
    "    ### block of code 2 uses the priority queue to build the binary tree bottom-up\n",
    "    for x in range(n-1):\n",
    "        c = Node('z',0)\n",
    "        c.lchild = heapq.heappop(Q)\n",
    "        c.rchild = heapq.heappop(Q)\n",
    "        c.freq = c.lchild.freq + c.rchild.freq\n",
    "        c.lchild.parent = c\n",
    "        c.rchild.parent = c\n",
    "        heapq.heappush(Q,c)\n",
    "    encoded_dictionary = {}\n",
    "    encoded_dictionary = {}\n",
    "    ### block of code 3 runs through every node in the tree and stores all the keys from symb2freq and corresponding (encoded) codewords in the encoded_dictionary\n",
    "    f = [Q[0].lchild, Q[0].rchild]\n",
    "    result = []\n",
    "    while f:\n",
    "        l = f.pop(0)\n",
    "        result.append(l)\n",
    "\n",
    "        if l.lchild != None:\n",
    "            f.append(l.lchild)\n",
    "        if l.rchild!= None:\n",
    "            f.append(l.rchild)\n",
    "    for i in result:\n",
    "        encoded_dictionary[i.symb] = read_encoding(i)\n",
    "    return encoded_dictionary\n",
    "\n",
    "            "
   ]
  },
  {
   "cell_type": "markdown",
   "id": "5e51fb3d",
   "metadata": {},
   "source": [
    "## Question 2\n",
    "Explain the role played by the priority queue (as a data structure) within the algorithm to construct the Huffman coding. Why not any other data structure?\n",
    "\n",
    "\n",
    "\n",
    "Explain how your answer applies both #DataStructures and #ComplexityAnalysis in no less than 50 words for each LO."
   ]
  },
  {
   "cell_type": "markdown",
   "id": "edcdb5cc",
   "metadata": {},
   "source": [
    "#DataStructures:The Huffman code uses priority queue for the greedy aspect. It takes the characters with lower frequency and puts them in the bottom of priority queue, whereas the higher frequency characters get to be stored in the highest positions of the pq. \n",
    "\n",
    "#ComplexityAnalysis: Running the priority queue would take logarithmic time complexity O(log n).If we take BST from other data structures, it would take O(n), which is a worse performance. Therefore, priority queue is more efficient. "
   ]
  },
  {
   "cell_type": "markdown",
   "id": "45533341",
   "metadata": {},
   "source": [
    "## Question 3\n",
    "\n",
    "Let's test your algorithm. Before, we need to create a dictionary where: \n",
    "\n",
    "the key is \"fi\", where i can be 1, 2, 3, ... depending on which Fibonacci number in the sequence we are referring to. \n",
    "the item is the Fibonacci number itself.\n",
    "For example, for the first 7 Fibonacci numbers, it will be\n",
    "\n",
    "{'f1': 1,\n",
    "\n",
    "'f2': 1,\n",
    "\n",
    "'f3': 2,\n",
    "\n",
    "'f4': 3,\n",
    "\n",
    "'f5': 5,\n",
    "\n",
    "'f6': 8,\n",
    "\n",
    "'f7': 13}\n",
    "\n",
    "Include your code at the start of the code cell below. The remaining code has been written for you: it generates a dictionary, fib_dict_freq, that includes the first 30 Fibonacci numbers.\n",
    "\n"
   ]
  },
  {
   "cell_type": "code",
   "execution_count": 25,
   "id": "4241e273",
   "metadata": {},
   "outputs": [
    {
     "ename": "AssertionError",
     "evalue": "",
     "output_type": "error",
     "traceback": [
      "\u001b[1;31m---------------------------------------------------------------------------\u001b[0m",
      "\u001b[1;31mAssertionError\u001b[0m                            Traceback (most recent call last)",
      "\u001b[1;32m~\\AppData\\Local\\Temp/ipykernel_1924/2423651295.py\u001b[0m in \u001b[0;36m<module>\u001b[1;34m\u001b[0m\n\u001b[0;32m     23\u001b[0m                          \u001b[1;34m'f21'\u001b[0m\u001b[1;33m:\u001b[0m \u001b[1;36m10946\u001b[0m\u001b[1;33m,\u001b[0m \u001b[1;34m'f22'\u001b[0m\u001b[1;33m:\u001b[0m \u001b[1;36m17711\u001b[0m\u001b[1;33m,\u001b[0m \u001b[1;34m'f23'\u001b[0m\u001b[1;33m:\u001b[0m \u001b[1;36m28657\u001b[0m\u001b[1;33m,\u001b[0m \u001b[1;34m'f24'\u001b[0m\u001b[1;33m:\u001b[0m \u001b[1;36m46368\u001b[0m\u001b[1;33m,\u001b[0m \u001b[1;34m'f25'\u001b[0m\u001b[1;33m:\u001b[0m \u001b[1;36m75025\u001b[0m\u001b[1;33m,\u001b[0m\u001b[1;33m\u001b[0m\u001b[1;33m\u001b[0m\u001b[0m\n\u001b[0;32m     24\u001b[0m                          'f26': 121393, 'f27': 196418, 'f28': 317811, 'f29': 514229, 'f30': 832040}\n\u001b[1;32m---> 25\u001b[1;33m \u001b[1;32massert\u001b[0m\u001b[1;33m(\u001b[0m\u001b[0mfib_dict_freq\u001b[0m\u001b[1;33m==\u001b[0m\u001b[0mcorrect_fib_dict_freq\u001b[0m\u001b[1;33m)\u001b[0m\u001b[1;33m\u001b[0m\u001b[1;33m\u001b[0m\u001b[0m\n\u001b[0m",
      "\u001b[1;31mAssertionError\u001b[0m: "
     ]
    }
   ],
   "source": [
    "def fib(n):\n",
    "    dic = {}\n",
    "    if n>=1:\n",
    "        dic['f1']=1\n",
    "    if n>=2:\n",
    "        dic['f2']=1\n",
    "    if n>=3:\n",
    "        for x in range(3,n+1):\n",
    "            dic[f'f{x}'] = dic[f'f{x-1}'] + dic[f'f{x-2}']\n",
    "    return dic\n",
    "number_of_fibonacci_numbers = 30\n",
    "fibonacci_characters = []\n",
    "for i in range(30):\n",
    "    fibonacci_characters.append('f'+str(i+1))\n",
    "    fibonacci_frequencies = []\n",
    "for i in range(30):\n",
    "    fibonacci_frequencies.append(fib(i+1))\n",
    "fib_dict_freq = dict(zip(fibonacci_characters,fibonacci_frequencies))\n",
    "\n",
    "# testing your code\n",
    "correct_fib_dict_freq = {'f1': 1, 'f2': 1, 'f3': 2, 'f4': 3, 'f5': 5, \n",
    "                         'f11': 89, 'f12': 144, 'f13': 233, 'f14': 377, 'f15': 610,  'f16': 987, 'f17': 1597, 'f18': 2584, 'f19': 4181, 'f20': 6765, \n",
    "                         'f21': 10946, 'f22': 17711, 'f23': 28657, 'f24': 46368, 'f25': 75025, \n",
    "                         'f26': 121393, 'f27': 196418, 'f28': 317811, 'f29': 514229, 'f30': 832040}\n",
    "assert(fib_dict_freq==correct_fib_dict_freq) "
   ]
  },
  {
   "cell_type": "markdown",
   "id": "d64c41c2",
   "metadata": {},
   "source": [
    "## Question 4\n",
    "Now, run the code cell below. If your Huffman encoding is correctly implemented, the code should return no errors.\n",
    "\n"
   ]
  },
  {
   "cell_type": "code",
   "execution_count": 26,
   "id": "dfe5071b",
   "metadata": {},
   "outputs": [
    {
     "ename": "TypeError",
     "evalue": "'<' not supported between instances of 'dict' and 'dict'",
     "output_type": "error",
     "traceback": [
      "\u001b[1;31m---------------------------------------------------------------------------\u001b[0m",
      "\u001b[1;31mTypeError\u001b[0m                                 Traceback (most recent call last)",
      "\u001b[1;32m~\\AppData\\Local\\Temp/ipykernel_1924/2657270887.py\u001b[0m in \u001b[0;36m<module>\u001b[1;34m\u001b[0m\n\u001b[1;32m----> 1\u001b[1;33m \u001b[0mencoded_fib_dict\u001b[0m \u001b[1;33m=\u001b[0m \u001b[0mencode\u001b[0m\u001b[1;33m(\u001b[0m\u001b[0mfib_dict_freq\u001b[0m\u001b[1;33m)\u001b[0m\u001b[1;33m\u001b[0m\u001b[1;33m\u001b[0m\u001b[0m\n\u001b[0m\u001b[0;32m      2\u001b[0m correct_encoded_fib_dict = {\n\u001b[0;32m      3\u001b[0m     \u001b[1;34m'f1'\u001b[0m\u001b[1;33m:\u001b[0m \u001b[1;34m'11111111111111111111111111110'\u001b[0m\u001b[1;33m,\u001b[0m\u001b[1;33m\u001b[0m\u001b[1;33m\u001b[0m\u001b[0m\n\u001b[0;32m      4\u001b[0m     \u001b[1;34m'f2'\u001b[0m\u001b[1;33m:\u001b[0m \u001b[1;34m'11111111111111111111111111111'\u001b[0m\u001b[1;33m,\u001b[0m\u001b[1;33m\u001b[0m\u001b[1;33m\u001b[0m\u001b[0m\n\u001b[0;32m      5\u001b[0m     \u001b[1;34m'f3'\u001b[0m\u001b[1;33m:\u001b[0m \u001b[1;34m'1111111111111111111111111110'\u001b[0m\u001b[1;33m,\u001b[0m\u001b[1;33m\u001b[0m\u001b[1;33m\u001b[0m\u001b[0m\n",
      "\u001b[1;32m~\\AppData\\Local\\Temp/ipykernel_1924/1195239642.py\u001b[0m in \u001b[0;36mencode\u001b[1;34m(symb2freq_dict)\u001b[0m\n\u001b[0;32m     43\u001b[0m     \u001b[1;32mfor\u001b[0m \u001b[0mx\u001b[0m \u001b[1;32min\u001b[0m \u001b[0msymb2freq_dict\u001b[0m\u001b[1;33m.\u001b[0m\u001b[0mkeys\u001b[0m\u001b[1;33m(\u001b[0m\u001b[1;33m)\u001b[0m\u001b[1;33m:\u001b[0m\u001b[1;33m\u001b[0m\u001b[1;33m\u001b[0m\u001b[0m\n\u001b[0;32m     44\u001b[0m         \u001b[0mcurrent_node\u001b[0m \u001b[1;33m=\u001b[0m \u001b[0mNode\u001b[0m\u001b[1;33m(\u001b[0m\u001b[0msymb2freq_dict\u001b[0m\u001b[1;33m[\u001b[0m\u001b[0mx\u001b[0m\u001b[1;33m]\u001b[0m\u001b[1;33m,\u001b[0m\u001b[0mx\u001b[0m\u001b[1;33m)\u001b[0m\u001b[1;33m\u001b[0m\u001b[1;33m\u001b[0m\u001b[0m\n\u001b[1;32m---> 45\u001b[1;33m         \u001b[0mheapq\u001b[0m\u001b[1;33m.\u001b[0m\u001b[0mheappush\u001b[0m\u001b[1;33m(\u001b[0m\u001b[0mQ\u001b[0m\u001b[1;33m,\u001b[0m \u001b[0mcurrent_node\u001b[0m\u001b[1;33m)\u001b[0m\u001b[1;33m\u001b[0m\u001b[1;33m\u001b[0m\u001b[0m\n\u001b[0m\u001b[0;32m     46\u001b[0m \u001b[1;33m\u001b[0m\u001b[0m\n\u001b[0;32m     47\u001b[0m     \u001b[1;31m### block of code 2 uses the priority queue to build the binary tree bottom-up\u001b[0m\u001b[1;33m\u001b[0m\u001b[1;33m\u001b[0m\u001b[0m\n",
      "\u001b[1;32m~\\AppData\\Local\\Temp/ipykernel_1924/380735479.py\u001b[0m in \u001b[0;36m__lt__\u001b[1;34m(self, other)\u001b[0m\n\u001b[0;32m     29\u001b[0m \u001b[1;33m\u001b[0m\u001b[0m\n\u001b[0;32m     30\u001b[0m         \"\"\"\n\u001b[1;32m---> 31\u001b[1;33m         \u001b[1;32mreturn\u001b[0m \u001b[0mself\u001b[0m\u001b[1;33m.\u001b[0m\u001b[0mfreq\u001b[0m \u001b[1;33m<\u001b[0m \u001b[0mother\u001b[0m\u001b[1;33m.\u001b[0m\u001b[0mfreq\u001b[0m\u001b[1;33m\u001b[0m\u001b[1;33m\u001b[0m\u001b[0m\n\u001b[0m\u001b[0;32m     32\u001b[0m \u001b[1;33m\u001b[0m\u001b[0m\n",
      "\u001b[1;31mTypeError\u001b[0m: '<' not supported between instances of 'dict' and 'dict'"
     ]
    }
   ],
   "source": [
    "encoded_fib_dict = encode(fib_dict_freq)\n",
    "correct_encoded_fib_dict = {\n",
    "    'f1': '11111111111111111111111111110', \n",
    "    'f2': '11111111111111111111111111111', \n",
    "    'f3': '1111111111111111111111111110', \n",
    "    'f4': '111111111111111111111111110', \n",
    "    'f5': '11111111111111111111111110', \n",
    "    'f6': '1111111111111111111111110', \n",
    "    'f7': '111111111111111111111110', \n",
    "    'f8': '11111111111111111111110', 'f9': '1111111111111111111110', 'f10': '111111111111111111110', \n",
    "    'f11': '11111111111111111110', 'f12': '1111111111111111110', 'f13': '111111111111111110', \n",
    "    'f14': '11111111111111110', 'f15': '1111111111111110', 'f16': '111111111111110', \n",
    "    'f17': '11111111111110', 'f18': '1111111111110', 'f19': '111111111110', 'f20': '11111111110', \n",
    "    'f21': '1111111110', 'f22': '111111110', 'f23': '11111110', 'f24': '1111110', 'f25': '111110', \n",
    "    'f26': '11110', 'f27': '1110', 'f28': '110', 'f29': '10', 'f30': '0'}\n",
    "assert(encoded_fib_dict==correct_encoded_fib_dict)"
   ]
  },
  {
   "cell_type": "markdown",
   "id": "46195baa",
   "metadata": {},
   "source": [
    "## Question 5\n",
    "Finally, let's compute the number of 1s in all the codewords stored in the binary tree above. What would a reasonable answer be for the percentage of 1s in the tree, and why? \n",
    "\n",
    "To guide you towards an answer would 50% be reasonable, for example? Why or why not? Include your answer below in the text box provided, and the code you have generated to answer the question below."
   ]
  },
  {
   "cell_type": "markdown",
   "id": "6f5485d7",
   "metadata": {},
   "source": [
    "No. The number we want to compress would become bigger in fibonacci sequence. The nodes that we add would go into the right subtree, which will make the number of 1s greater than 0s. Therefore 50% would not be reasonable. "
   ]
  },
  {
   "cell_type": "code",
   "execution_count": 27,
   "id": "b50f71b8",
   "metadata": {},
   "outputs": [
    {
     "ename": "NameError",
     "evalue": "name 'encoded_fib_dict' is not defined",
     "output_type": "error",
     "traceback": [
      "\u001b[1;31m---------------------------------------------------------------------------\u001b[0m",
      "\u001b[1;31mNameError\u001b[0m                                 Traceback (most recent call last)",
      "\u001b[1;32m~\\AppData\\Local\\Temp/ipykernel_1924/3198471238.py\u001b[0m in \u001b[0;36m<module>\u001b[1;34m\u001b[0m\n\u001b[0;32m      1\u001b[0m \u001b[1;31m#since my previous code did not work\u001b[0m\u001b[1;33m\u001b[0m\u001b[1;33m\u001b[0m\u001b[0m\n\u001b[0;32m      2\u001b[0m \u001b[0mcount\u001b[0m \u001b[1;33m=\u001b[0m \u001b[1;36m0\u001b[0m\u001b[1;33m\u001b[0m\u001b[1;33m\u001b[0m\u001b[0m\n\u001b[1;32m----> 3\u001b[1;33m \u001b[1;32mfor\u001b[0m \u001b[0mi\u001b[0m \u001b[1;32min\u001b[0m \u001b[0mencoded_fib_dict\u001b[0m\u001b[1;33m.\u001b[0m\u001b[0mkeys\u001b[0m\u001b[1;33m(\u001b[0m\u001b[1;33m)\u001b[0m\u001b[1;33m:\u001b[0m\u001b[1;33m\u001b[0m\u001b[1;33m\u001b[0m\u001b[0m\n\u001b[0m\u001b[0;32m      4\u001b[0m     \u001b[0mcount\u001b[0m \u001b[1;33m=\u001b[0m \u001b[0mencoded_fib_dict\u001b[0m\u001b[1;33m[\u001b[0m\u001b[0mi\u001b[0m\u001b[1;33m]\u001b[0m\u001b[1;33m.\u001b[0m\u001b[0mcount\u001b[0m\u001b[1;33m(\u001b[0m\u001b[1;34m'1'\u001b[0m\u001b[1;33m)\u001b[0m \u001b[1;33m+\u001b[0m \u001b[0mcount\u001b[0m\u001b[1;33m\u001b[0m\u001b[1;33m\u001b[0m\u001b[0m\n\u001b[0;32m      5\u001b[0m \u001b[0mprint\u001b[0m\u001b[1;33m(\u001b[0m\u001b[0mcount\u001b[0m\u001b[1;33m-\u001b[0m\u001b[0mencoded_fib_dict\u001b[0m\u001b[1;33m[\u001b[0m\u001b[1;36m0\u001b[0m\u001b[1;33m]\u001b[0m\u001b[1;33m.\u001b[0m\u001b[0mcount\u001b[0m\u001b[1;33m(\u001b[0m\u001b[1;34m'1'\u001b[0m\u001b[1;33m)\u001b[0m\u001b[1;33m)\u001b[0m\u001b[1;33m\u001b[0m\u001b[1;33m\u001b[0m\u001b[0m\n",
      "\u001b[1;31mNameError\u001b[0m: name 'encoded_fib_dict' is not defined"
     ]
    }
   ],
   "source": [
    "#since my previous code did not work\n",
    "count = 0\n",
    "for i in encoded_fib_dict.keys():\n",
    "    count = encoded_fib_dict[i].count('1') + count\n",
    "print(count-encoded_fib_dict[0].count('1'))\n",
    "print(count)"
   ]
  }
 ],
 "metadata": {
  "kernelspec": {
   "display_name": "Python 3 (ipykernel)",
   "language": "python",
   "name": "python3"
  },
  "language_info": {
   "codemirror_mode": {
    "name": "ipython",
    "version": 3
   },
   "file_extension": ".py",
   "mimetype": "text/x-python",
   "name": "python",
   "nbconvert_exporter": "python",
   "pygments_lexer": "ipython3",
   "version": "3.9.7"
  }
 },
 "nbformat": 4,
 "nbformat_minor": 5
}
